{
 "cells": [
  {
   "cell_type": "markdown",
   "metadata": {},
   "source": [
    "***\n",
    "<font size=+2>ID: **AI-0009**</font><br>\n",
    "<font size=+2>Submission Date: **16-01-2018**</font>\n",
    "***"
   ]
  },
  {
   "cell_type": "markdown",
   "metadata": {},
   "source": [
    "## Abstract:\n",
    "<font size=+0.5>**\"Plant Seedlings Classification\"**</font><br>\n",
    "The Aarhus University Signal Processing group, in collaboration with University of Southern Denmark released a Dataset containing Images of Plants belonging to 12 Species at several Growth Stages. This Project was based on this Dataset. Transfer Learning with several Layer Freezing was attempted and some of the Layers were kept as Trainable. For, Image Processing, Green Channel Conversion with OpenCV and Data Augmentation was attempted. Finally, the Pipelining of Base Model with Custom Layers shaped the Final Model. The approach is advanced CNN with Fine Tuned Pretrained Models like VGG19, VGG16, Xception and InceptionResnetV2. "
   ]
  },
  {
   "cell_type": "markdown",
   "metadata": {},
   "source": [
    "## Purpose of the Assignment:\n",
    "The purpose of the Assignment is to dig into Computer Vision including Convolution Neural Network(CNN) and Transfer Learning to explore the Classification Methods. The Goal in this Assignment is to Determine the Species of a Seedling from an Image.\n",
    "***"
   ]
  },
  {
   "cell_type": "code",
   "execution_count": 1,
   "metadata": {},
   "outputs": [
    {
     "data": {
      "application/javascript": [
       "IPython.OutputArea.prototype._should_scroll = function(lines) \n",
       "{\n",
       "    return false;\n",
       "} \n",
       "// This code snippet is used to turn off auto scrolling in outputs\n",
       "// Ignore this snippet as it is not a part of the project"
      ],
      "text/plain": [
       "<IPython.core.display.Javascript object>"
      ]
     },
     "metadata": {},
     "output_type": "display_data"
    }
   ],
   "source": [
    "%%javascript\n",
    "IPython.OutputArea.prototype._should_scroll = function(lines) \n",
    "{\n",
    "    return false;\n",
    "} \n",
    "// This code snippet is used to turn off auto scrolling in outputs\n",
    "// Ignore this snippet as it is not a part of the project"
   ]
  },
  {
   "cell_type": "markdown",
   "metadata": {},
   "source": [
    "## 1. Data Set Overview"
   ]
  },
  {
   "cell_type": "code",
   "execution_count": 2,
   "metadata": {},
   "outputs": [
    {
     "name": "stdout",
     "output_type": "stream",
     "text": [
      "\n",
      "Total Number of Classes: 12\n",
      "Total Data in the Train Set: 4750\n"
     ]
    },
    {
     "data": {
      "image/png": "[encoded data removed]",
      "text/plain": [
       "<matplotlib.figure.Figure at 0x7fce0f76f8d0>"
      ]
     },
     "metadata": {},
     "output_type": "display_data"
    }
   ],
   "source": [
    "# Plant Seedlings Classification\n",
    "\n",
    "import pandas as pd\n",
    "import numpy as np\n",
    "import matplotlib.pyplot as plt\n",
    "import PIL.Image as Img\n",
    "import seaborn as sb\n",
    "import os\n",
    "import cv2\n",
    "\n",
    "# Data Overview by os Module\n",
    "dirnametrn = '/mydata/train/'     # The Directory that contains all the Train Image Folders\n",
    "folders = os.listdir(dirnametrn)  # List of Folder Names containing the Images\n",
    "Labels = folders[:]  # List by Value\n",
    "NC = len(folders)  # Number of Classes\n",
    "print('\\nTotal Number of Classes:', NC)\n",
    "\n",
    "Counts = []\n",
    "for folder in folders:\n",
    "    imgdir = os.path.join(dirnametrn, folder)  # Image Folder Path\n",
    "    Counts += [len(os.listdir(imgdir))]\n",
    "print('Total Data in the Train Set:', sum(Counts))\n",
    "    \n",
    "# Data Frame and Plot\n",
    "df = pd.DataFrame({'Species':Labels, 'Counts':Counts})\n",
    "df = df[['Species', 'Counts']]\n",
    "plt.figure(1, figsize=(15, 7))\n",
    "plt.title('Count Plot', fontsize=15)\n",
    "plt.xticks(rotation = 90)\n",
    "sb.set(font_scale = 1.5)\n",
    "sb.barplot(x = df['Species'], y = df['Counts'])\n",
    "plt.show()"
   ]
  },
  {
   "cell_type": "markdown",
   "metadata": {},
   "source": [
    "<h2>Cell Report:</h2><br>\n",
    "**1.** Image Counts of Each Species were Visually represented."
   ]
  },
  {
   "cell_type": "markdown",
   "metadata": {},
   "source": [
    "## 2. Data Preprocessing"
   ]
  },
  {
   "cell_type": "code",
   "execution_count": 3,
   "metadata": {},
   "outputs": [
    {
     "name": "stderr",
     "output_type": "stream",
     "text": [
      "Using TensorFlow backend.\n"
     ]
    },
    {
     "name": "stdout",
     "output_type": "stream",
     "text": [
      "\n",
      "Shape of Train Data: (4750, 256, 256, 3)\n",
      "Shape of Train Labels: (4750, 12)\n",
      "Shape of Test Data: (794, 256, 256, 3)\n"
     ]
    }
   ],
   "source": [
    "# # Green Channel Conversion(OpenCV)\n",
    "\n",
    "# def create_mask_for_plant(image):\n",
    "#     image_hsv = cv2.cvtColor(image, cv2.COLOR_BGR2HSV)\n",
    "\n",
    "#     sensitivity = 35\n",
    "#     lower_hsv = np.array([60 - sensitivity, 100, 50])               \n",
    "#     upper_hsv = np.array([60 + sensitivity, 255, 255])                  # Image Masking\n",
    "\n",
    "#     mask = cv2.inRange(image_hsv, lower_hsv, upper_hsv)\n",
    "#     kernel = cv2.getStructuringElement(cv2.MORPH_ELLIPSE, (11,11))\n",
    "#     mask = cv2.morphologyEx(mask, cv2.MORPH_CLOSE, kernel)\n",
    "    \n",
    "#     return mask\n",
    "\n",
    "# def segment_plant(image):\n",
    "#     mask = create_mask_for_plant(image)\n",
    "#     output = cv2.bitwise_and(image, image, mask = mask)                 # Image Segmentation\n",
    "#     return output\n",
    "\n",
    "# def sharpen_image(image):\n",
    "#     image_blurred = cv2.GaussianBlur(image, (0, 0), 3)\n",
    "#     image_sharp = cv2.addWeighted(image, 1.5, image_blurred, -0.5, 0)   # Image Sharpening\n",
    "#     return image_sharp\n",
    "\n",
    "# Pre Processing\n",
    "from keras.preprocessing.image import ImageDataGenerator\n",
    "\n",
    "ImSize = 256\n",
    "\n",
    "# One Hot Encoding of Labels\n",
    "LabelSeries = []\n",
    "for i in range(NC):\n",
    "    for j in range(Counts[i]):\n",
    "        LabelSeries += [Labels[i]]\n",
    "OHE = pd.get_dummies(LabelSeries, sparse = True)\n",
    "PStrnOHE = np.asarray(OHE)\n",
    "\n",
    "# Data Import(Train Set)\n",
    "PStrnX = []   # Train Images\n",
    "PStrnRY = []  # Train Image Labels\n",
    "i = 0\n",
    "for folder in folders:\n",
    "    imgdir = os.path.join(dirnametrn, folder)  # Image Folder Path\n",
    "    images = os.listdir(imgdir)\n",
    "    for ImageId in images:\n",
    "        xdir = os.path.join(imgdir, ImageId)\n",
    "        x = cv2.imread(xdir)\n",
    "        Label = PStrnOHE[i]\n",
    "#       x = segment_plant(x)\n",
    "#       x = sharpen_image(x)\n",
    "        PStrnX.append(cv2.resize(x, (ImSize, ImSize)))\n",
    "        PStrnRY.append(Label)\n",
    "        i = i + 1\n",
    "\n",
    "# Data Import(Test Set)\n",
    "PStstY = pd.read_csv('/mydata/sample_submission.csv')  # Test file and species\n",
    "dirnametst = '/mydata/test/'\n",
    "PStstX = []  # Test Images\n",
    "for ImageId in PStstY['file'].values:\n",
    "    xdir = os.path.join(dirnametst, ImageId)\n",
    "    x = cv2.imread(xdir)\n",
    "    PStstX.append(cv2.resize(x, (ImSize, ImSize)))\n",
    "\n",
    "# Data Normalization(Min-Max)\n",
    "PStrnRY = np.array(PStrnRY, np.uint8)\n",
    "PStrnRX = np.array(PStrnX, np.float32) / 255.0\n",
    "PStstRX = np.array(PStstX, np.float32) / 255.0\n",
    "\n",
    "# Data Shape\n",
    "print('\\nShape of Train Data:', PStrnRX.shape)\n",
    "print('Shape of Train Labels:', PStrnRY.shape)\n",
    "print('Shape of Test Data:', PStstRX.shape)\n",
    "\n",
    "# Data Augmentation\n",
    "DataGen = ImageDataGenerator(featurewise_center = False,  # Set Input Mean to 0 over the Dataset\n",
    "                             samplewise_center = False,   # Set each Sample Mean to 0\n",
    "                             featurewise_std_normalization = False,  # Divide Inputs by STD of the Dataset\n",
    "                             samplewise_std_normalization = False,   # Divide each Input by its STD\n",
    "                             zca_whitening = False,     # ZCA whitening\n",
    "                             rotation_range = 30,       # Randomly rotate Images\n",
    "                             zoom_range = 0.3,          # Randomly zoom Images \n",
    "                             width_shift_range = 0.3,   # Randomly shift Images horizontally (fraction of total width)\n",
    "                             height_shift_range = 0.3,  # Randomly shift images vertically (fraction of total height)\n",
    "                             fill_mode = 'nearest')      # Padding Type\n",
    "                             #horizontal_flip = True,    # Randomly flip Images(Horizontal)\n",
    "                             #vertical_flip = False)     # Randomly flip Images(Vertical)"
   ]
  },
  {
   "cell_type": "markdown",
   "metadata": {},
   "source": [
    "<h2>Cell Report:</h2><br>\n",
    "**1.** Labels were One Hot Encoded as required by Keras and also the Scoring will be in Multiclass Loss.<br>\n",
    "**2.** Train and Test Images were imported sequentially and resized.<br>\n",
    "**3.** Data were Normalized(Min-Max).<br>\n",
    "**4.** Data Shapes were represented.<br>\n",
    "**5.** Image Size: 256 X 256<br>\n",
    "**6.** It is to be noted that Green Channel Conversion by OpenCV seemed to be a lucrative Pre Processing Step but as it wasn't much of a help, rather aggravative, it was omitted.<br>\n",
    "**7.** Data Augmentation was applied."
   ]
  },
  {
   "cell_type": "markdown",
   "metadata": {},
   "source": [
    "## 3. Decision of Algorithm and Model"
   ]
  },
  {
   "cell_type": "code",
   "execution_count": null,
   "metadata": {},
   "outputs": [],
   "source": [
    "# Keras(Transfer Learning)\n",
    "from sklearn import preprocessing\n",
    "\n",
    "import keras\n",
    "\n",
    "from keras.layers import Dense\n",
    "from keras.layers import BatchNormalization\n",
    "from keras.layers import Dropout \n",
    "from keras.layers import Flatten\n",
    "from keras.models import Model\n",
    "from keras.layers import GlobalAveragePooling2D\n",
    "from keras.applications.vgg19 import VGG19\n",
    "from keras import backend as k \n",
    "from keras.callbacks import EarlyStopping\n",
    "\n",
    "# Base Pre Trained Model\n",
    "BaseModel = VGG19(weights = 'imagenet', \n",
    "                  include_top = False, \n",
    "                  input_shape = (ImSize, ImSize, 3))\n",
    "# Layer Freezing\n",
    "for layer in BaseModel.layers[:7]:\n",
    "    layer.trainable = False\n",
    "\n",
    "# New Top Layer\n",
    "x = BaseModel.output\n",
    "x = Flatten()(x)\n",
    "x = Dense(1024, activation = 'relu')(x)\n",
    "#x = BatchNormalization()(x)\n",
    "x = Dropout(0.25)(x)\n",
    "x = Dense(1024, activation = 'relu')(x)\n",
    "#x = BatchNormalization()(x)\n",
    "x = Dropout(0.25)(x)\n",
    "\n",
    "# Prediction Layer(Last Dense Layer)\n",
    "PredLayer = Dense(NC, activation = 'softmax')(x)  # NC = Number of Classes\n",
    "\n",
    "# Model Pipelining\n",
    "model = Model(inputs = BaseModel.input, outputs = PredLayer)"
   ]
  },
  {
   "cell_type": "markdown",
   "metadata": {},
   "source": [
    "<h2>Cell Report:</h2><br>\n",
    "**1.** Transfer Learning was utilized for the Model. The Model Summary is given below.<br>\n",
    "**2.** Various Pre Trained Model from Keras was used and the best was found to be VGG19.<br>\n",
    "**3.** Weights were taken from 'imagenet' and used in the BaseModel.<br>\n",
    "**4.** Output of the BaseModel was Flattened and Pipelined through 2 Dense Layers with Dropout to the Prediction Layer.<br>\n",
    "**5.** Batch Normalization didn't work out.<br>\n",
    "**6.** For the Base Model, first 7 Layers were Freezed(Trainable = False).<br>\n",
    "**7.** Various Layer Freezing approaches were attempted(5 Layers Freezed, 7 Layers Freezed, 9 Layers Freezed).<br>\n",
    "**8.** VGG19, Xception, VGG16 were also attempted with all Layers Freezed. But VGG19 with 7 Layers Freezed worked best."
   ]
  },
  {
   "cell_type": "markdown",
   "metadata": {},
   "source": [
    "## 4. Decision of Hyper Parameters:\n",
    "<font size=+1.5>(Epochs, Activation Function, Optimizer, Learning Rate and Number of Neurons)</font>"
   ]
  },
  {
   "cell_type": "code",
   "execution_count": 5,
   "metadata": {
    "collapsed": true
   },
   "outputs": [],
   "source": [
    "# Hyper Parameter Tuning\n",
    "from keras.optimizers import SGD\n",
    "from keras.callbacks import ReduceLROnPlateau\n",
    "\n",
    "# Epochs\n",
    "epochs = 15  # More Epochs must have improved the Final Score but it is beyond the capability of Cloud's 2 hours capability\n",
    "batch_size = 25\n",
    "\n",
    "# Activation Function\n",
    "# The Activation Fun in the Prediction Layer is 'softmax' as it should be\n",
    "\n",
    "# Optimizer\n",
    "optimizer = SGD(lr = 0.0001, momentum = 0.9)\n",
    "\n",
    "# Learning Rate\n",
    "LRA = ReduceLROnPlateau(monitor = 'val_acc',  # Learning Rate Annealer   \n",
    "                        patience = 5, \n",
    "                        verbose = 1, \n",
    "                        factor = 0.5, \n",
    "                        min_lr = 0.00001)\n",
    "\n",
    "# Number of Neurons\n",
    "# 2 Dense Layers(1024, 1024)\n",
    "# Number of Neurons in the Prediction Layer is 120(Number of Classes)"
   ]
  },
  {
   "cell_type": "markdown",
   "metadata": {},
   "source": [
    "<h2>Cell Report:</h2><br>\n",
    "**1.** Hyper Parameters were tuned.<br>\n",
    "**2.** SGD was used as Optimizer as it works well in this Architecture.<br>\n",
    "**3.** In order to make the Optimizer converge faster and closest to the Global Minimum of the Loss Function, an Annealing Method of the Learning Rate(LR) was used because it's better to have a decreasing Learning Rate during the Training to reach efficiently the Global Minimum of the Loss Function.<br>\n",
    "**4.** With the ReduceLROnPlateau function from Keras.callbacks, it was chosen to reduce the LR by half if the Accuracy is not improved after 5 epochs.<br>\n",
    "**5.** More epochs could have improved the Final Score but due to limitations of Available Computational Power, it was not affordable.<br>\n",
    "**6.** Activation Function in the Last Layer: 'softmax'."
   ]
  },
  {
   "cell_type": "markdown",
   "metadata": {},
   "source": [
    "## 5. Best Designed Model(Tuned Hyper Parameters)"
   ]
  },
  {
   "cell_type": "code",
   "execution_count": 6,
   "metadata": {},
   "outputs": [
    {
     "name": "stdout",
     "output_type": "stream",
     "text": [
      "\n",
      "Model Summary:\n",
      "\n",
      "_________________________________________________________________\n",
      "Layer (type)                 Output Shape              Param #   \n",
      "=================================================================\n",
      "input_1 (InputLayer)         (None, 256, 256, 3)       0         \n",
      "_________________________________________________________________\n",
      "block1_conv1 (Conv2D)        (None, 256, 256, 64)      1792      \n",
      "_________________________________________________________________\n",
      "block1_conv2 (Conv2D)        (None, 256, 256, 64)      36928     \n",
      "_________________________________________________________________\n",
      "block1_pool (MaxPooling2D)   (None, 128, 128, 64)      0         \n",
      "_________________________________________________________________\n",
      "block2_conv1 (Conv2D)        (None, 128, 128, 128)     73856     \n",
      "_________________________________________________________________\n",
      "block2_conv2 (Conv2D)        (None, 128, 128, 128)     147584    \n",
      "_________________________________________________________________\n",
      "block2_pool (MaxPooling2D)   (None, 64, 64, 128)       0         \n",
      "_________________________________________________________________\n",
      "block3_conv1 (Conv2D)        (None, 64, 64, 256)       295168    \n",
      "_________________________________________________________________\n",
      "block3_conv2 (Conv2D)        (None, 64, 64, 256)       590080    \n",
      "_________________________________________________________________\n",
      "block3_conv3 (Conv2D)        (None, 64, 64, 256)       590080    \n",
      "_________________________________________________________________\n",
      "block3_conv4 (Conv2D)        (None, 64, 64, 256)       590080    \n",
      "_________________________________________________________________\n",
      "block3_pool (MaxPooling2D)   (None, 32, 32, 256)       0         \n",
      "_________________________________________________________________\n",
      "block4_conv1 (Conv2D)        (None, 32, 32, 512)       1180160   \n",
      "_________________________________________________________________\n",
      "block4_conv2 (Conv2D)        (None, 32, 32, 512)       2359808   \n",
      "_________________________________________________________________\n",
      "block4_conv3 (Conv2D)        (None, 32, 32, 512)       2359808   \n",
      "_________________________________________________________________\n",
      "block4_conv4 (Conv2D)        (None, 32, 32, 512)       2359808   \n",
      "_________________________________________________________________\n",
      "block4_pool (MaxPooling2D)   (None, 16, 16, 512)       0         \n",
      "_________________________________________________________________\n",
      "block5_conv1 (Conv2D)        (None, 16, 16, 512)       2359808   \n",
      "_________________________________________________________________\n",
      "block5_conv2 (Conv2D)        (None, 16, 16, 512)       2359808   \n",
      "_________________________________________________________________\n",
      "block5_conv3 (Conv2D)        (None, 16, 16, 512)       2359808   \n",
      "_________________________________________________________________\n",
      "block5_conv4 (Conv2D)        (None, 16, 16, 512)       2359808   \n",
      "_________________________________________________________________\n",
      "block5_pool (MaxPooling2D)   (None, 8, 8, 512)         0         \n",
      "_________________________________________________________________\n",
      "flatten_1 (Flatten)          (None, 32768)             0         \n",
      "_________________________________________________________________\n",
      "dense_1 (Dense)              (None, 1024)              33555456  \n",
      "_________________________________________________________________\n",
      "dropout_1 (Dropout)          (None, 1024)              0         \n",
      "_________________________________________________________________\n",
      "dense_2 (Dense)              (None, 1024)              1049600   \n",
      "_________________________________________________________________\n",
      "dropout_2 (Dropout)          (None, 1024)              0         \n",
      "_________________________________________________________________\n",
      "dense_3 (Dense)              (None, 12)                12300     \n",
      "=================================================================\n",
      "Total params: 54,641,740\n",
      "Trainable params: 54,381,580\n",
      "Non-trainable params: 260,160\n",
      "_________________________________________________________________\n",
      "Epoch 1/15\n",
      "411s - loss: 2.4366 - acc: 0.1497\n",
      "Epoch 2/15\n",
      "372s - loss: 2.1587 - acc: 0.2602\n",
      "Epoch 3/15\n",
      "372s - loss: 1.8177 - acc: 0.3674\n",
      "Epoch 4/15\n",
      "373s - loss: 1.5079 - acc: 0.4777\n",
      "Epoch 5/15\n",
      "373s - loss: 1.2193 - acc: 0.5636\n",
      "Epoch 6/15\n",
      "373s - loss: 0.9905 - acc: 0.6501\n",
      "Epoch 7/15\n",
      "374s - loss: 0.8729 - acc: 0.6897\n",
      "Epoch 8/15\n",
      "374s - loss: 0.7897 - acc: 0.7198\n",
      "Epoch 9/15\n",
      "373s - loss: 0.7007 - acc: 0.7497\n",
      "Epoch 10/15\n",
      "374s - loss: 0.6218 - acc: 0.7787\n",
      "Epoch 11/15\n",
      "374s - loss: 0.5747 - acc: 0.7966\n",
      "Epoch 12/15\n",
      "373s - loss: 0.5276 - acc: 0.8082\n",
      "Epoch 13/15\n",
      "375s - loss: 0.5061 - acc: 0.8179\n",
      "Epoch 14/15\n",
      "374s - loss: 0.4698 - acc: 0.8381\n",
      "Epoch 15/15\n",
      "373s - loss: 0.4466 - acc: 0.8425\n",
      "794/794 [==============================] - 31s    \n"
     ]
    }
   ],
   "source": [
    "# Model(Final)\n",
    "model.compile(loss = 'categorical_crossentropy', \n",
    "              optimizer = optimizer, \n",
    "              metrics = ['accuracy'])\n",
    "\n",
    "#callbacks_list = [keras.callbacks.EarlyStopping(monitor = 'val_acc', patience = 5, verbose = 2)]\n",
    "print('\\nModel Summary:\\n')\n",
    "model.summary()\n",
    "\n",
    "# Training of Model\n",
    "model.fit_generator(DataGen.flow(PStrnRX, PStrnRY, batch_size = batch_size),\n",
    "                                 epochs = epochs, \n",
    "                                 verbose = 2, \n",
    "                                 steps_per_epoch = PStrnRX.shape[0] // batch_size)\n",
    "                                 #callbacks = [LRA])\n",
    "\n",
    "# Predictions\n",
    "PredPS = model.predict(PStstRX, verbose = 1)\n",
    "\n",
    "# DataFrame\n",
    "PredPS = pd.DataFrame(PredPS)\n",
    "\n",
    "# Column Names\n",
    "ColNames = OHE.columns.values\n",
    "PredPS.columns = ColNames\n",
    "\n",
    "# Class Conversion\n",
    "PredPS['species'] = PredPS.idxmax(axis = 1)\n",
    "PredPS = PredPS['species']\n",
    "PredPS = pd.DataFrame({'species':PredPS})\n",
    "\n",
    "# Column Id\n",
    "PredPS.insert(0, 'file', PStstY['file'])\n",
    "\n",
    "# CSV File(Kaggle Format)\n",
    "PredPS.to_csv('PredPS(MFinal).csv', index=False)"
   ]
  },
  {
   "cell_type": "markdown",
   "metadata": {},
   "source": [
    "<h2>Cell Report:</h2><br>\n",
    "**1.** Best Designed Model with Tuned Hyper Parameters was represented.<br>\n",
    "**2.** Kaggle Score: 0.91561(F-Mean Score)"
   ]
  },
  {
   "cell_type": "markdown",
   "metadata": {},
   "source": [
    "## 6. Results\n",
    "**1.** Final Kaggle Score(Best Designed Model): 0.91561<br>\n",
    "**2.** The Submission File(Predicted Outputs) has been attached.<br> \n",
    "**3.** A Sample Output has been shown below."
   ]
  },
  {
   "cell_type": "markdown",
   "metadata": {},
   "source": [
    "### 6.1 Sample Output"
   ]
  },
  {
   "cell_type": "code",
   "execution_count": 4,
   "metadata": {},
   "outputs": [
    {
     "name": "stdout",
     "output_type": "stream",
     "text": [
      "\n",
      "Sample Output(5 Predictions):\n",
      "\n",
      "            file                    species\n",
      "0  0021e90e4.png  Small-flowered Cranesbill\n",
      "1  003d61042.png                    Fat Hen\n",
      "2  007b3da8b.png                    Fat Hen\n",
      "3  0086a6340.png           Common Chickweed\n",
      "4  00c47e980.png                 Sugar beet\n",
      "5  00d090cde.png           Loose Silky-bent\n",
      "6  00ef713a8.png           Common Chickweed\n",
      "7  01291174f.png                    Fat Hen\n",
      "8  026716f9b.png           Loose Silky-bent\n",
      "9  02cfeb38d.png           Loose Silky-bent\n"
     ]
    }
   ],
   "source": [
    "# Sample Output\n",
    "PredPS = pd.read_csv('PredPS(MFinal).csv')\n",
    "print('\\nSample Output(10 Predictions):\\n')\n",
    "print(PredPS.head(10))"
   ]
  },
  {
   "cell_type": "markdown",
   "metadata": {},
   "source": [
    "### 6.2 Kaggle Score(Screen Shot)"
   ]
  },
  {
   "cell_type": "code",
   "execution_count": 5,
   "metadata": {},
   "outputs": [
    {
     "data": {
      "image/png": "[encoded data removed]",
      "text/plain": [
       "<IPython.core.display.Image object>"
      ]
     },
     "execution_count": 5,
     "metadata": {},
     "output_type": "execute_result"
    }
   ],
   "source": [
    "# Kaggle Score(Screen Shot)\n",
    "from IPython.display import Image\n",
    "Image('Kaggle.PNG')"
   ]
  },
  {
   "cell_type": "markdown",
   "metadata": {},
   "source": [
    "<font size=+1.8>**Note: The main problem during the Project was a Good Personal Computer with powerful GPU(Nvidia) and sufficient RAM. My Laptop does not have Nvidia GPU and enough RAM to run this Project. So, I had to rely on Cloud Service(Floydhub.com) where I created multiple accounts to take 2 hours of free GPU service on each account. 2 hours time limit is never enough for this kind of Image Classification based Projects. So, I had to limit my Number of epochs and other important Parameters such as Number of Base Model Layers to keep as Trainable. It is also to be mentioned that it takes so much time to upload large Datsets of Image Classification and other Dependencies on Floydhub. Also each account creation on Floydhub.com requires time which is exhaustive. With such time consuming miscellaneous activities and with such Resource Constraints, it is impossible to achieve good scores on Kaggle. So, the evaluation should be based on the Approach rather than Scores. Only if I could run the project without this limitations, Kaggle Score would have been appreciable.**</font>"
   ]
  },
  {
   "cell_type": "markdown",
   "metadata": {},
   "source": [
    "## 7. Discussion\n",
    "**1.** More epochs must have improved the Final Score.<br>\n",
    "**2.** Data Augmentation helped improving the Final Score.<br>\n",
    "**3.** Imbalanced Learning would have improved the Final Score."
   ]
  },
  {
   "cell_type": "markdown",
   "metadata": {},
   "source": [
    "## 8. Conclusions"
   ]
  },
  {
   "cell_type": "markdown",
   "metadata": {},
   "source": [
    "**Ensembling Model:** Using Ensembling Model for this kind of Projects is a very good idea but regarding the Computational Power available, it was not possible. The idea will be considered for Future Improvements."
   ]
  }
 ],
 "metadata": {
  "kernelspec": {
   "display_name": "Python 3",
   "language": "python",
   "name": "python3"
  },
  "language_info": {
   "codemirror_mode": {
    "name": "ipython",
    "version": 3
   },
   "file_extension": ".py",
   "mimetype": "text/x-python",
   "name": "python",
   "nbconvert_exporter": "python",
   "pygments_lexer": "ipython3",
   "version": "3.6.1"
  }
 },
 "nbformat": 4,
 "nbformat_minor": 2
}
